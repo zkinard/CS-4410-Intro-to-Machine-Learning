{
  "nbformat": 4,
  "nbformat_minor": 0,
  "metadata": {
    "colab": {
      "provenance": [],
      "authorship_tag": "ABX9TyNKWDwmfFnnLJLawp8gwid+",
      "include_colab_link": true
    },
    "kernelspec": {
      "name": "python3",
      "display_name": "Python 3"
    },
    "language_info": {
      "name": "python"
    }
  },
  "cells": [
    {
      "cell_type": "markdown",
      "metadata": {
        "id": "view-in-github",
        "colab_type": "text"
      },
      "source": [
        "<a href=\"https://colab.research.google.com/github/zkinard/CS-4410-Intro-to-Machine-Learning/blob/main/KinardWeek6.ipynb\" target=\"_parent\"><img src=\"https://colab.research.google.com/assets/colab-badge.svg\" alt=\"Open In Colab\"/></a>"
      ]
    },
    {
      "cell_type": "markdown",
      "source": [
        "# Week 6 Homework 5-Part 1:"
      ],
      "metadata": {
        "id": "anGXA0frgq1I"
      }
    },
    {
      "cell_type": "code",
      "execution_count": 77,
      "metadata": {
        "id": "6QGtrUdFYCyU"
      },
      "outputs": [],
      "source": [
        "#Import Iris Data and other statements\n",
        "from sklearn.cluster import KMeans\n",
        "from sklearn import metrics\n",
        "from scipy.spatial.distance import cdist\n",
        "import numpy as np\n",
        "import matplotlib.pyplot as plt\n",
        "from sklearn.datasets import load_iris"
      ]
    },
    {
      "cell_type": "code",
      "source": [
        "#Save Iris data\n",
        "iris = load_iris()\n",
        "x = iris.data"
      ],
      "metadata": {
        "id": "OCU967C_aCs4"
      },
      "execution_count": 78,
      "outputs": []
    },
    {
      "cell_type": "code",
      "source": [
        "#Make the range of clusters to test\n",
        "k_rng = range(1,11)\n",
        "sse = []\n",
        "for k in k_rng:\n",
        "  km = KMeans(n_clusters=k, n_init=10)\n",
        "  km.fit(x)\n",
        "  sse.append(km.inertia_)"
      ],
      "metadata": {
        "id": "YyQFEGboY5eK"
      },
      "execution_count": 79,
      "outputs": []
    },
    {
      "cell_type": "code",
      "source": [
        "#Check values\n",
        "sse"
      ],
      "metadata": {
        "colab": {
          "base_uri": "https://localhost:8080/"
        },
        "id": "Zjnjmie-dVWN",
        "outputId": "59a3e57f-914a-4663-f42d-1ffa90493950"
      },
      "execution_count": 80,
      "outputs": [
        {
          "output_type": "execute_result",
          "data": {
            "text/plain": [
              "[681.3706,\n",
              " 152.3479517603579,\n",
              " 78.851441426146,\n",
              " 57.22847321428572,\n",
              " 46.446182051282065,\n",
              " 39.03998724608726,\n",
              " 34.4201917862839,\n",
              " 29.99042640692641,\n",
              " 28.273204184704184,\n",
              " 26.51417477517323]"
            ]
          },
          "metadata": {},
          "execution_count": 80
        }
      ]
    },
    {
      "cell_type": "code",
      "source": [
        "#Create the elbow method plot\n",
        "fig = plt.figure(figsize = (7,5))\n",
        "plt.plot(range(1,11), sse)\n",
        "plt.xlabel('Number of clusters')\n",
        "plt.ylabel('WCSS')\n",
        "plt.title('The elbow method')"
      ],
      "metadata": {
        "colab": {
          "base_uri": "https://localhost:8080/",
          "height": 505
        },
        "id": "rfjbhxmrdXhC",
        "outputId": "886aae61-6450-4851-db88-588935e344db"
      },
      "execution_count": 81,
      "outputs": [
        {
          "output_type": "execute_result",
          "data": {
            "text/plain": [
              "Text(0.5, 1.0, 'The elbow method')"
            ]
          },
          "metadata": {},
          "execution_count": 81
        },
        {
          "output_type": "display_data",
          "data": {
            "text/plain": [
              "<Figure size 700x500 with 1 Axes>"
            ],
            "image/png": "[encoded data removed]"
          },
          "metadata": {}
        }
      ]
    },
    {
      "cell_type": "markdown",
      "source": [
        "# Week 6 Homework 5-Part 2:\n"
      ],
      "metadata": {
        "id": "MORLIrVogg3J"
      }
    },
    {
      "cell_type": "code",
      "source": [
        "#Import statements\n",
        "from sklearn.decomposition import PCA\n",
        "from sklearn.model_selection import train_test_split\n",
        "from sklearn.linear_model import LogisticRegression\n",
        "from sklearn.metrics import accuracy_score\n",
        "import time\n",
        "\n",
        "\n",
        "#Import Dataset\n",
        "from sklearn.datasets import fetch_openml\n",
        "mnist = fetch_openml('mnist_784', parser='auto')"
      ],
      "metadata": {
        "id": "nIMH_2Ifg37t"
      },
      "execution_count": 82,
      "outputs": []
    },
    {
      "cell_type": "code",
      "source": [
        "#Split data for training and testing\n",
        "X = mnist.data\n",
        "y = mnist.target\n",
        "X_train, X_test, y_train, y_test = train_test_split(X, y, random_state= 42)\n",
        "\n",
        "#Logistic Regression without PCA\n",
        "logreg = LogisticRegression(solver='lbfgs')\n",
        "start = time.time()\n",
        "logreg.fit(X_train, y_train)\n",
        "stop = time.time()\n",
        "\n",
        "#Get accuracy score and time, then print\n",
        "y_pred = logreg.predict(X_test)\n",
        "score_noPCA = accuracy_score(y_test, y_pred)\n",
        "time_noPCA = (stop - start)\n",
        "print(f'Accuracy without PCA: {score_noPCA:.2%}')\n",
        "print(f'Time taken without PCA: {time_noPCA:.2f} seconds')"
      ],
      "metadata": {
        "colab": {
          "base_uri": "https://localhost:8080/"
        },
        "id": "ocOwCmDloNt4",
        "outputId": "6143ba38-f82d-4e39-92a0-bc8dd55275ba"
      },
      "execution_count": 83,
      "outputs": [
        {
          "output_type": "stream",
          "name": "stdout",
          "text": [
            "Accuracy without PCA: 92.10%\n",
            "Time taken without PCA: 45.71 seconds\n"
          ]
        }
      ]
    },
    {
      "cell_type": "code",
      "source": [
        "#Apply PCA to data\n",
        "pca = PCA(n_components = 2, random_state= 8)\n",
        "X_train_pca = pca.fit_transform(X_train)\n",
        "X_test_pca = pca.transform(X_test)\n",
        "\n",
        "#Logistic Regression with PCA\n",
        "start = time.time()\n",
        "logreg.fit(X_train_pca, y_train)\n",
        "stop = time.time()\n",
        "\n",
        "#Get accuracy score and time, then print\n",
        "y_pred = logreg.predict(X_test_pca)\n",
        "score_PCA = accuracy_score(y_test, y_pred)\n",
        "time_PCA = (stop - start)\n",
        "print(f'Accuracy with PCA: {score_PCA:.2%}')\n",
        "print(f'Time taken with PCA: {time_PCA:.2f} seconds')"
      ],
      "metadata": {
        "colab": {
          "base_uri": "https://localhost:8080/"
        },
        "id": "Jmj7g8wZqBP4",
        "outputId": "f5089f62-9ce1-4447-fe6e-1ad5e65d091d"
      },
      "execution_count": 84,
      "outputs": [
        {
          "output_type": "stream",
          "name": "stdout",
          "text": [
            "Accuracy with PCA: 43.99%\n",
            "Time taken with PCA: 2.68 seconds\n"
          ]
        }
      ]
    },
    {
      "cell_type": "code",
      "source": [],
      "metadata": {
        "id": "7f3EjZWIsY_9"
      },
      "execution_count": null,
      "outputs": []
    }
  ]
}