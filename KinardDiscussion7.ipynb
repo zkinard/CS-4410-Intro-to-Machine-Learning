{
  "nbformat": 4,
  "nbformat_minor": 0,
  "metadata": {
    "colab": {
      "provenance": [],
      "authorship_tag": "ABX9TyONzxPoRpWQlax/dm6wfVUt",
      "include_colab_link": true
    },
    "kernelspec": {
      "name": "python3",
      "display_name": "Python 3"
    },
    "language_info": {
      "name": "python"
    }
  },
  "cells": [
    {
      "cell_type": "markdown",
      "metadata": {
        "id": "view-in-github",
        "colab_type": "text"
      },
      "source": [
        "<a href=\"https://colab.research.google.com/github/zkinard/CS-4410-Intro-to-Machine-Learning/blob/main/KinardDiscussion7.ipynb\" target=\"_parent\"><img src=\"https://colab.research.google.com/assets/colab-badge.svg\" alt=\"Open In Colab\"/></a>"
      ]
    },
    {
      "cell_type": "markdown",
      "source": [
        "12.10 (spaCy: Shakespeare Similarity Detection) Using the spaCy techniques you learned in this chapter, download a Shakespeare comedy from Project Gutenberg and compare it for similarity with Romeo and Juliet."
      ],
      "metadata": {
        "id": "kBB-t2liRwwk"
      }
    },
    {
      "cell_type": "code",
      "execution_count": 25,
      "metadata": {
        "id": "5tfpH8z2RsPe"
      },
      "outputs": [],
      "source": [
        "#Import Space and english model\n",
        "import spacy\n",
        "nlp = spacy.load(\"en_core_web_sm\")"
      ]
    },
    {
      "cell_type": "code",
      "source": [
        "#Get the text of the two plays\n",
        "!pip install requests\n",
        "import requests\n",
        "rnj_url ='https://www.gutenberg.org/files/1777/1777.txt'\n",
        "temp_url = 'https://www.gutenberg.org/files/23042/23042-0.txt'\n",
        "\n",
        "#Romeo and Juliet text\n",
        "response1 = requests.get(rnj_url)\n",
        "romjul = response1.text\n",
        "doc1 = nlp(romjul)\n",
        "\n",
        "#The Tempest text\n",
        "response2 = requests.get(temp_url)\n",
        "tempest = response2.text\n",
        "doc2 = nlp(tempest)"
      ],
      "metadata": {
        "id": "Hy8nn5azS2NZ",
        "colab": {
          "base_uri": "https://localhost:8080/"
        },
        "outputId": "8e4bf06d-568d-433e-dba7-6c657b592587"
      },
      "execution_count": 26,
      "outputs": [
        {
          "output_type": "stream",
          "name": "stdout",
          "text": [
            "Requirement already satisfied: requests in /usr/local/lib/python3.10/dist-packages (2.31.0)\n",
            "Requirement already satisfied: charset-normalizer<4,>=2 in /usr/local/lib/python3.10/dist-packages (from requests) (3.2.0)\n",
            "Requirement already satisfied: idna<4,>=2.5 in /usr/local/lib/python3.10/dist-packages (from requests) (3.4)\n",
            "Requirement already satisfied: urllib3<3,>=1.21.1 in /usr/local/lib/python3.10/dist-packages (from requests) (2.0.4)\n",
            "Requirement already satisfied: certifi>=2017.4.17 in /usr/local/lib/python3.10/dist-packages (from requests) (2023.7.22)\n"
          ]
        }
      ]
    },
    {
      "cell_type": "code",
      "source": [
        "#Check Similarity\n",
        "doc1.similarity(doc2)"
      ],
      "metadata": {
        "colab": {
          "base_uri": "https://localhost:8080/"
        },
        "id": "MlntsXgeV5m9",
        "outputId": "709a7eb4-56f0-4da0-d80b-df1b75ab72f2"
      },
      "execution_count": 27,
      "outputs": [
        {
          "output_type": "stream",
          "name": "stderr",
          "text": [
            "<ipython-input-27-d27db01f9c16>:2: UserWarning: [W007] The model you're using has no word vectors loaded, so the result of the Doc.similarity method will be based on the tagger, parser and NER, which may not give useful similarity judgements. This may happen if you're using one of the small models, e.g. `en_core_web_sm`, which don't ship with word vectors and only use context-sensitive tensors. You can always add your own word vectors, or use one of the larger models instead if available.\n",
            "  doc1.similarity(doc2)\n"
          ]
        },
        {
          "output_type": "execute_result",
          "data": {
            "text/plain": [
              "0.9193674122230712"
            ]
          },
          "metadata": {},
          "execution_count": 27
        }
      ]
    }
  ]
}